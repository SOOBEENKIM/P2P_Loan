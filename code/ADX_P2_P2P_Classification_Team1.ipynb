{
  "nbformat": 4,
  "nbformat_minor": 0,
  "metadata": {
    "colab": {
      "provenance": [],
      "collapsed_sections": [
        "DLzLK_soMqvO",
        "ngV2kgFs3Hef",
        "aglWkPR-My8T",
        "pBj0E22AM3tC",
        "jXwHURLsM9UI",
        "ARqLTZFVGPTm"
      ]
    },
    "kernelspec": {
      "name": "python3",
      "display_name": "Python 3"
    }
  },
  "cells": [
    {
      "cell_type": "markdown",
      "metadata": {
        "id": "FCzqQv-lpXNK"
      },
      "source": [
        "# Project 2. P2P  대출심사 알고리듬\n",
        "**과목명:  응용데이터애널리틱스 (Applied Data Analytics)** \\\\\n",
        "**학수번호:  INE4108** \\\\\n",
        "**교강사:  송재욱 교수 (산업공학과)** \\\\\n",
        " \\\\\n",
        "***"
      ]
    },
    {
      "cell_type": "markdown",
      "metadata": {
        "id": "21F0poqDnriY"
      },
      "source": [
        "## 1. Environmental Set-up & Data Loading"
      ]
    },
    {
      "cell_type": "code",
      "metadata": {
        "id": "16gjgF_8nmu_",
        "colab": {
          "base_uri": "https://localhost:8080/"
        },
        "outputId": "34177e7d-86e7-449e-8729-8c70770f7a19"
      },
      "source": [
        "from google.colab import drive\n",
        "import pandas as pd\n",
        "import numpy as np\n",
        "\n",
        "drive.mount('/content/drive', force_remount=True)\n",
        "\n",
        "# enter the foldername in your Google Drive where you have saved the unzipped\n",
        "FOLDERNAME =  'ADX/'\n",
        "\n",
        "assert FOLDERNAME is not None, 'ERROR'\n",
        "\n",
        "%cd drive/My\\ Drive\n",
        "%cp -r $FOLDERNAME ../../"
      ],
      "execution_count": null,
      "outputs": [
        {
          "output_type": "stream",
          "name": "stdout",
          "text": [
            "Mounted at /content/drive\n",
            "/content/drive/My Drive\n"
          ]
        }
      ]
    },
    {
      "cell_type": "code",
      "source": [
        "# 모델 수립을 위한 Train/Validation Set\n",
        "df = pd.read_csv('/content/drive/MyDrive/ADX/P2_dataset.csv', encoding ='cp949')\n",
        "\n",
        "# 시스템 구현을 위한 Test Set 샘플\n",
        "df_test = pd.read_csv('/content/drive/MyDrive/ADX/P2_dataset_test_sample.csv', encoding ='cp949')\n",
        "\n",
        "delete_col = ['funded_amnt', 'funded_amnt_inv', 'installment', 'grade', 'open_acc', 'initial_list_status', 'recoveries',\n",
        "              'collection_recovery_fee', 'acc_now_delinq', 'delinq_amnt', 'total_pymnt', 'total_pymnt_inv', 'total_rec_prncp',\t'total_rec_int',\t'total_rec_late_fee', 'last_pymnt_amnt']\n",
        "df_1 = df.copy()\n",
        "df_1 = df_1.drop(columns=delete_col)"
      ],
      "metadata": {
        "id": "2JqGidt73_mk"
      },
      "execution_count": null,
      "outputs": []
    },
    {
      "cell_type": "markdown",
      "source": [
        "# Train 결측치처리"
      ],
      "metadata": {
        "id": "20D5bRwn4Aks"
      }
    },
    {
      "cell_type": "code",
      "source": [
        "df_1['collections_12_mths_ex_med']=df_1['collections_12_mths_ex_med'].replace(np.nan, df_1['collections_12_mths_ex_med'].median())\n",
        "df_1['chargeoff_within_12_mths']=df_1['chargeoff_within_12_mths'].replace( np.nan, df_1['chargeoff_within_12_mths'].median())\n",
        "df_1['pub_rec_bankruptcies']=df_1['pub_rec_bankruptcies'].replace(np.nan, df_1['pub_rec_bankruptcies'].median())\n",
        "df_1['tax_liens']=df_1['tax_liens'].replace(np.nan, df_1['tax_liens'].median())\n",
        "df_1['revol_util']=df_1['revol_util'].replace(np.nan, df_1['revol_util'].median())\n",
        "# NaN 값을 '10+ years'로 대체\n",
        "df_1['emp_length'].fillna('10+ years', inplace=True)"
      ],
      "metadata": {
        "id": "HVP72vAv4ayE"
      },
      "execution_count": null,
      "outputs": []
    },
    {
      "cell_type": "markdown",
      "source": [
        "# Train 이상치제거"
      ],
      "metadata": {
        "id": "imafUY_25pcT"
      }
    },
    {
      "cell_type": "code",
      "source": [
        "df_2=df_1.copy()\n",
        "df_2 = df_2[df_2['revol_util'] <= 1.00]\n",
        "df_2 = df_2[df_2['home_ownership'].isin(['MORTGAGE', 'OTHER', 'OWN', 'RENT'])]"
      ],
      "metadata": {
        "id": "BUXbwdMK5aud"
      },
      "execution_count": null,
      "outputs": []
    },
    {
      "cell_type": "markdown",
      "source": [
        "# Train 범주형인코딩"
      ],
      "metadata": {
        "id": "AIlNqNTk6D-c"
      }
    },
    {
      "cell_type": "code",
      "source": [
        "from sklearn.preprocessing import OrdinalEncoder\n",
        "from sklearn.preprocessing import LabelEncoder\n",
        "\n",
        "df_3 = df_2.copy()\n",
        "df_3.reset_index(drop=True, inplace=True)\n",
        "selected_list=['emp_length', 'verification_status']\n",
        "\n",
        "label_encoders = {}\n",
        "for column in selected_list:\n",
        "    le = LabelEncoder()\n",
        "    df_3[column] = le.fit_transform(df_3[column])\n",
        "    label_encoders[column] = le"
      ],
      "metadata": {
        "id": "nt2t3R0k-aKV"
      },
      "execution_count": null,
      "outputs": []
    },
    {
      "cell_type": "code",
      "source": [
        "purpose_order = ['car', 'major_purchase', 'credit_card', 'wedding', 'home_improvement',\n",
        "       'debt_consolidation', 'house', 'vacation', 'other', 'educational',\n",
        "       'medical', 'renewable_energy', 'moving', 'small_business']\n",
        "encoder_1 = OrdinalEncoder(categories=[purpose_order])\n",
        "df_3['purpose'] = encoder_1.fit_transform(df_3[['purpose']])\n",
        "\n",
        "home_order = ['OTHER', 'RENT', 'OWN', 'MORTGAGE']\n",
        "home_order = home_order[::-1]\n",
        "encoder_2 = OrdinalEncoder(categories=[home_order])\n",
        "df_3['home_ownership'] = encoder_2.fit_transform(df_3[['home_ownership']])\n",
        "\n",
        "sg_order = sorted(df_3['sub_grade'].unique())\n",
        "encoder_3 = OrdinalEncoder(categories = [sg_order])\n",
        "df_3['sub_grade'] = encoder_3.fit_transform(df_3[['sub_grade']])\n",
        "\n",
        "mapping = {\n",
        "    \"Fully Paid\": -1.0,\n",
        "    \"Charged Off\": 1.0\n",
        "}\n",
        "\n",
        "# 매핑 적용\n",
        "df_3['loan_status'] = df_3['loan_status'].map(mapping)"
      ],
      "metadata": {
        "id": "aBXDFmR2I_sx"
      },
      "execution_count": null,
      "outputs": []
    },
    {
      "cell_type": "code",
      "source": [
        "continuous_list=[p for p in df_3.columns if p not in ['emp_length', 'verification_status', 'loan_status', 'purpose', 'home_ownership', 'sub_grade']]"
      ],
      "metadata": {
        "id": "eh7_2VaiOxae"
      },
      "execution_count": null,
      "outputs": []
    },
    {
      "cell_type": "markdown",
      "metadata": {
        "id": "rv3tA_28ovjx"
      },
      "source": [
        "## 2. Modelling\n",
        "- df를 사용하여 예측모형 수립\n",
        "- Feature engineering에 대한 토의/구현 진행\n",
        "- Computation time을 고려하여 전체 데이터를 완전히 사용하지 말고 Sampling하여 Model Train/Vadliation을 진행하는 것을 추천\n",
        "- Sampling을 단 한번 한 것으로 모형 Train 한 것이 과연 옳은 것인지에 대해 팀원들과 고민해볼 것. 해결 방법은 없을지 서치해보는 것도 하나의 task임."
      ]
    },
    {
      "cell_type": "markdown",
      "source": [
        "# Sampling"
      ],
      "metadata": {
        "id": "KYzXFCVYGW5H"
      }
    },
    {
      "cell_type": "markdown",
      "source": [
        "표본집단이 모집단을 대표할 수 있다는 가정하에 Samping을 단 한번 한 것으로 모형 Train한 것이 옳을 수 있으나, SVM에선 전체데이터의 극히 일부만 사용함으로 전제조건이 성립하지 않을 수도 있음.\n",
        "\n",
        "때문에 계산 시간을 조금 포기하고 sampling갯수를 늘리거나, cross validation으로 재차 검증하는 것이 필요."
      ],
      "metadata": {
        "id": "d6IlOp8v4ncV"
      }
    },
    {
      "cell_type": "markdown",
      "source": [
        "## 데이터 불균형 해소\n",
        "\n",
        "SVM을 사용하기 때문에 계산시간의 문제로 전체 데이터를 사용할 수 없고, 어처피 일부 데이터만 이용해야 하기 때문에 Under Sampling을 하는 것이 타당함.\n",
        "\n",
        "Oversampling을 할 이유가 없으나 성능 비교를 위해 실험함. oversampling 방법으로 제대로 된 합성데이터를 생성하려면 전체 변수에 대해서 합성데이터를 만드는 기본 라이브러리를 쓸 게 아니라, 중요한 변수에 대해서만 거리계산을 하거나, 정수 인코딩된 이산형 변수에 대해서는 일정확률로 기존 값을 유지 하는 등의 특수한 처리가 필요해 보임. -> 시간이 되면 발표전에 구현해볼 예정."
      ],
      "metadata": {
        "id": "MYEq1tuX3NHr"
      }
    },
    {
      "cell_type": "markdown",
      "source": [
        "## Under Sampling"
      ],
      "metadata": {
        "id": "WV58_wpFzBsl"
      }
    },
    {
      "cell_type": "code",
      "source": [
        "positive_data=df_3[df_3['loan_status'] == 1]\n",
        "\n",
        "negative_data=df_3[df_3['loan_status'] == -1]\n",
        "\n",
        "negative_data=negative_data.sample(n=len(positive_data), random_state=42)\n",
        "\n",
        "df_3_undersampled = pd.concat([positive_data, negative_data], axis=0)"
      ],
      "metadata": {
        "id": "Z_zYrYBh7McG"
      },
      "execution_count": null,
      "outputs": []
    },
    {
      "cell_type": "markdown",
      "source": [
        "## ADASYN(파라미터 튜닝 오래걸리면 이건 스킵)"
      ],
      "metadata": {
        "id": "sMDfjVvHzI4A"
      }
    },
    {
      "cell_type": "code",
      "source": [
        "df_3=df_3.sample(n=20000, random_state=42)"
      ],
      "metadata": {
        "id": "d2Dm1qzVzRUD"
      },
      "execution_count": null,
      "outputs": []
    },
    {
      "cell_type": "code",
      "source": [
        "# ADASYN 적용\n",
        "from imblearn.over_sampling import ADASYN\n",
        "\n",
        "# 데이터 준비\n",
        "X = df_3.drop('loan_status', axis=1)\n",
        "y = df_3['loan_status']\n",
        "\n",
        "# ADASYN 적용\n",
        "adasyn = ADASYN(random_state=42, sampling_strategy='minority')\n",
        "X_resampled, y_resampled = adasyn.fit_resample(X, y)\n",
        "\n",
        "# 균형잡힌 데이터셋 생성\n",
        "df_3_adasyn = pd.concat([X_resampled, y_resampled], axis=1)"
      ],
      "metadata": {
        "id": "iI9xyvr8y1EE"
      },
      "execution_count": null,
      "outputs": []
    },
    {
      "cell_type": "markdown",
      "source": [
        "## SMOTE"
      ],
      "metadata": {
        "id": "7b_VEkYHK4jl"
      }
    },
    {
      "cell_type": "code",
      "source": [
        "# ADASYN 적용\n",
        "from imblearn.over_sampling import SMOTE\n",
        "\n",
        "# 데이터 준비\n",
        "X = df_3.drop('loan_status', axis=1)\n",
        "y = df_3['loan_status']\n",
        "\n",
        "# ADASYN 적용\n",
        "smote = SMOTE(random_state=42, sampling_strategy='minority')\n",
        "X_resampled, y_resampled = smote.fit_resample(X, y)\n",
        "\n",
        "# 균형잡힌 데이터셋 생성\n",
        "df_3_smote = pd.concat([X_resampled, y_resampled], axis=1)"
      ],
      "metadata": {
        "id": "O1mqVc2y_qkO"
      },
      "execution_count": null,
      "outputs": []
    },
    {
      "cell_type": "code",
      "source": [
        "print(df_3.shape)\n",
        "print(df_3_undersampled.shape)\n",
        "print(df_3_smote.shape)\n",
        "print(df_3_adasyn.shape)"
      ],
      "metadata": {
        "colab": {
          "base_uri": "https://localhost:8080/"
        },
        "id": "LDLspeNX6TCh",
        "outputId": "ce0859d4-ae34-46b9-c238-92c9e6d6e9ef"
      },
      "execution_count": null,
      "outputs": [
        {
          "output_type": "stream",
          "name": "stdout",
          "text": [
            "(20000, 20)\n",
            "(83816, 20)\n",
            "(34788, 20)\n",
            "(34927, 20)\n"
          ]
        }
      ]
    },
    {
      "cell_type": "markdown",
      "source": [
        "## Sampling 방법 선택"
      ],
      "metadata": {
        "id": "xazEs0bFK6hV"
      }
    },
    {
      "cell_type": "code",
      "source": [
        "sampling_name=input()\n",
        "\n",
        "if sampling_name == 'Under':\n",
        "  df_4=df_3_undersampled\n",
        "\n",
        "elif sampling_name == 'ADASYN':\n",
        "  df_4=df_3_adasyn\n",
        "\n",
        "elif sampling_name == 'SMOTE':\n",
        "  df_4=df_3_smote\n",
        "\n",
        "else:\n",
        "  df_4=df_3\n",
        "\n",
        "train_size = 5000\n",
        "\n",
        "# 데이터 섞기 (필요한 경우)\n",
        "df_4 = df_4.sample(frac=1, random_state=42).reset_index(drop=True)\n",
        "\n",
        "# 데이터셋 분리\n",
        "train = df_4[:train_size]\n",
        "val_set = df_4[train_size:]"
      ],
      "metadata": {
        "id": "ddkyhzB7Jfse",
        "colab": {
          "base_uri": "https://localhost:8080/"
        },
        "outputId": "936ca1c5-8aed-4175-a9b3-568dc825b99f"
      },
      "execution_count": null,
      "outputs": [
        {
          "name": "stdout",
          "output_type": "stream",
          "text": [
            "SMOTE\n"
          ]
        }
      ]
    },
    {
      "cell_type": "markdown",
      "source": [
        "## Cross Validation을 위한 validation Set"
      ],
      "metadata": {
        "id": "rDEIKPJM7iMk"
      }
    },
    {
      "cell_type": "code",
      "source": [
        "val1 = val_set.sample(n=4000, random_state=10)\n",
        "val2 = val_set.sample(n=4000, random_state=20)\n",
        "val3 = val_set.sample(n=4000, random_state=30)\n",
        "val4 = val_set.sample(n=4000, random_state=40)\n",
        "val5 = val_set.sample(n=4000, random_state=50)\n",
        "\n",
        "# 시간 관계상 수동으로 cross validation\n",
        "val=val5"
      ],
      "metadata": {
        "id": "iORe0hKN7VNz"
      },
      "execution_count": null,
      "outputs": []
    },
    {
      "cell_type": "markdown",
      "source": [
        "## 비율 Plot"
      ],
      "metadata": {
        "id": "5uKpv1ulK9pN"
      }
    },
    {
      "cell_type": "code",
      "source": [
        "from matplotlib import pyplot as plt\n",
        "class_counts = train['loan_status'].value_counts()\n",
        "plt.pie(class_counts, labels=class_counts.index, startangle=140, autopct='%1.1f%%')\n",
        "plt.axis('equal')\n",
        "plt.title('Loan Status')\n",
        "plt.tight_layout()\n",
        "plt.show()"
      ],
      "metadata": {
        "colab": {
          "base_uri": "https://localhost:8080/",
          "height": 487
        },
        "id": "KNzLReYdPLc2",
        "outputId": "c61a5e21-2a2c-4d2a-a1eb-391f5e19a2db"
      },
      "execution_count": null,
      "outputs": [
        {
          "output_type": "display_data",
          "data": {
            "text/plain": [
              "<Figure size 640x480 with 1 Axes>"
            ],
            "image/png": "[encoded data removed]"
          },
          "metadata": {}
        }
      ]
    },
    {
      "cell_type": "markdown",
      "source": [
        "## Entropy 계산에서 Negative_data_train이 필요하여 추가된 부분."
      ],
      "metadata": {
        "id": "KRaIijc3MkvO"
      }
    },
    {
      "cell_type": "code",
      "source": [
        "negative_data_train = train[train['loan_status'] == -1]\n",
        "positive_data_train = train[train['loan_status'] == 1]\n",
        "positive_data_train = positive_data_train.sample(frac=1 / 2, random_state=42)\n",
        "negative_data_train = negative_data_train.sample(frac=1 / 2, random_state=42)\n",
        "train = pd.concat([positive_data_train, negative_data_train], axis=0)\n",
        "print(train.shape)\n",
        "\n",
        "negative_data_val = val[val['loan_status'] == -1]\n",
        "positive_data_val = val[val['loan_status'] == 1]\n",
        "positive_data_val = positive_data_val.sample(frac=1 / 2, random_state=42)\n",
        "negative_data_val = negative_data_val.sample(frac=1 / 2, random_state=42)\n",
        "val = pd.concat([positive_data_val, negative_data_val], axis=0)\n",
        "print(val.shape)"
      ],
      "metadata": {
        "id": "XUhIt_02Um6_",
        "colab": {
          "base_uri": "https://localhost:8080/"
        },
        "outputId": "bf0f9ac2-5eec-49e2-8feb-a4b7930b977a"
      },
      "execution_count": null,
      "outputs": [
        {
          "output_type": "stream",
          "name": "stdout",
          "text": [
            "(2500, 20)\n",
            "(2000, 20)\n"
          ]
        }
      ]
    },
    {
      "cell_type": "markdown",
      "source": [
        "# Train 연속형변수 분포저장"
      ],
      "metadata": {
        "id": "DLzLK_soMqvO"
      }
    },
    {
      "cell_type": "code",
      "source": [
        "from sklearn.preprocessing import StandardScaler\n",
        "from sklearn.model_selection import train_test_split\n",
        "\n",
        "X_train =train.drop(columns='loan_status')\n",
        "y_train =train['loan_status']\n",
        "\n",
        "X_val =val.drop(columns='loan_status')\n",
        "y_val = val['loan_status']"
      ],
      "metadata": {
        "id": "GjBTyzQbNAHp"
      },
      "execution_count": null,
      "outputs": []
    },
    {
      "cell_type": "code",
      "source": [
        "def standard_scale_train(train_data, feature_names):\n",
        "    \"\"\"\n",
        "    특정 feature들에 대해 Z 정규화를 수행하는 함수, sklearn의 StandardScaler 사용\n",
        "    :param train_data: 훈련 데이터셋 (DataFrame)\n",
        "    :param feature_names: 정규화를 수행할 특성들의 리스트\n",
        "    :return: 정규화된 훈련 데이터셋, 훈련된 StandardScaler 객체\n",
        "    \"\"\"\n",
        "    scaler = StandardScaler()\n",
        "    train_data_scaled = train_data.copy()\n",
        "    train_data_scaled[feature_names] = scaler.fit_transform(train_data[feature_names])\n",
        "    return train_data_scaled, scaler\n",
        "\n",
        "\n",
        "def standard_scale_val(X_val, feature_names, scaler):\n",
        "    \"\"\"\n",
        "    validation set을 특정 feature들에 대해 Z 정규화하는 함수, sklearn의 StandardScaler 사용\n",
        "    :param X_val: validation set (DataFrame)\n",
        "    :param feature_names: 정규화를 수행할 특성들의 리스트\n",
        "    :param scaler: 훈련 데이터셋에 대해 훈련된 StandardScaler 객체\n",
        "    :return: 정규화된 validation set\n",
        "    \"\"\"\n",
        "    X_val_scaled = X_val.copy()\n",
        "    X_val_scaled[feature_names] = scaler.transform(X_val[feature_names])\n",
        "    return X_val_scaled"
      ],
      "metadata": {
        "id": "ZosnBb7kMo6f"
      },
      "execution_count": null,
      "outputs": []
    },
    {
      "cell_type": "code",
      "source": [
        "# # 위 block에서 만들어진 z_normalize와 z_normalize_val 적용 (Error 날 경우 다시 고민할 것)\n",
        "X_train_norm = X_train.copy()\n",
        "X_train_norm.loc[:, continuous_list], scaler = standard_scale_train(X_train, continuous_list )\n",
        "X_val_norm = X_val.copy()\n",
        "X_val_norm.loc[:, continuous_list] = standard_scale_val(X_val, continuous_list, scaler)"
      ],
      "metadata": {
        "id": "nsw3ASH3M8vh"
      },
      "execution_count": null,
      "outputs": []
    },
    {
      "cell_type": "markdown",
      "source": [
        "# SVM"
      ],
      "metadata": {
        "id": "ngV2kgFs3Hef"
      }
    },
    {
      "cell_type": "markdown",
      "source": [],
      "metadata": {
        "id": "YpVTKyOn2_zz"
      }
    },
    {
      "cell_type": "code",
      "metadata": {
        "id": "4xOQcwOv3Q9C"
      },
      "source": [
        "import numpy as np\n",
        "import pandas as pd\n",
        "from cvxopt import matrix as cvxopt_matrix\n",
        "from cvxopt import solvers as cvxopt_solvers"
      ],
      "execution_count": null,
      "outputs": []
    },
    {
      "cell_type": "code",
      "source": [
        "# You could use the following function to calculate the entropy\n",
        "from scipy.stats import entropy\n",
        "\n",
        "# You can use the following function to calculate the Euclidean distance (distance.cdist)\n",
        "from scipy.spatial import distance"
      ],
      "metadata": {
        "id": "qPkrQtQtT5nh"
      },
      "execution_count": null,
      "outputs": []
    },
    {
      "cell_type": "code",
      "source": [
        "def Kernel_(x, y, params=0, type_='default'):\n",
        "    if type_ == 'rbf':\n",
        "        Kernel = np.exp(\n",
        "            - (np.sum(x ** 2, axis=1).reshape(-1, 1) + np.sum(y ** 2, axis=1).reshape(1, -1) - 2 * x @ y.T) * params)\n",
        "        return Kernel\n",
        "    elif type_ == 'default':\n",
        "        Kernel = np.dot(x, y.T)\n",
        "        return Kernel\n",
        "\n",
        "\n",
        "def Minmax_(X):\n",
        "    return (X - X.min(axis=0)) / (X.max(axis=0) - X.min(axis=0)), X.max(axis=0), X.min(axis=0)\n",
        "\n",
        "\n",
        "def Standar_(X):\n",
        "    return (X - X.mean(axis=0)) / X.std(axis=0), X.mean(axis=0), X.std(axis=0)\n",
        "\n",
        "\n",
        "def Convolution(pred, real):\n",
        "    pred = np.array(pred)\n",
        "    y = np.array(real)\n",
        "    TP = np.sum((pred == 1) & (y == 1))\n",
        "    FP = np.sum((pred == 1) & (y != 1))\n",
        "    FN = np.sum((pred != 1) & (y == 1))\n",
        "    TN = np.sum((pred != 1) & (y != 1))\n",
        "    return TP, FP, FN, TN\n",
        "\n",
        "\n",
        "############## Accuracy is newly included!\n",
        "def acc_precision_recall(X):\n",
        "    TP, FP, FN, TN = X\n",
        "    return (TP + TN) / (TP + FP + FN + TN), TP / (TP + FP), TP / (TP + FN)"
      ],
      "metadata": {
        "id": "uANqyY2zTr33"
      },
      "execution_count": null,
      "outputs": []
    },
    {
      "cell_type": "code",
      "source": [
        "def get_pk(y, k_nearest_indicies):\n",
        "    lst = y[k_nearest_indicies]\n",
        "    unique, counts = np.unique(lst, return_counts=True)\n",
        "    p_dict = dict(zip(unique, counts))\n",
        "    try:\n",
        "        p_pos = p_dict[1]\n",
        "    except KeyError:\n",
        "        p_pos = 0\n",
        "    try:\n",
        "        p_neg = p_dict[-1]\n",
        "    except KeyError:\n",
        "        p_neg = 0\n",
        "    return [p_pos/k, p_neg/k]"
      ],
      "metadata": {
        "id": "hS4jaDxTTvNZ"
      },
      "execution_count": null,
      "outputs": []
    },
    {
      "cell_type": "code",
      "source": [
        "# Hyperparameter\n",
        "C = 10\n",
        "Gamma = 2\n",
        "k = 7  # Number of Nearest Neighbor\n",
        "M = 10\n",
        "beta = 0.025"
      ],
      "metadata": {
        "id": "ZnyQTRSgTx0t"
      },
      "execution_count": null,
      "outputs": []
    },
    {
      "cell_type": "markdown",
      "source": [
        "## Si_value 구하기"
      ],
      "metadata": {
        "id": "aglWkPR-My8T"
      }
    },
    {
      "cell_type": "code",
      "source": [
        "#################################################################################\n",
        "# TODO: Generate s_i !!!!!\n",
        "# 1. Euclidean distance 계산\n",
        "# 2. Negative class에 대한 Entropy 계산 (k=7 사용)\n",
        "# 3. m = 10 / beta = 1/18을 사용하여 Entropy-based Fuzzy Membership 계산\n",
        "# 4. Positive와 Negative class 모두에 대해 si 부여\n",
        "#################################################################################\n",
        "\n",
        "X = X_train_norm\n",
        "y = y_train\n",
        "\n",
        "distances = distance.cdist(X, X, 'euclidean')  # 모든 포인트 간의 거리 계산\n",
        "distances_df = pd.DataFrame(data=distances, index=train.index, columns=train.index)\n",
        "\n",
        "nearest_points = {}\n",
        "for index, row in distances_df.iterrows():\n",
        "    # 가장 가까운 k개의 점의 인덱스 찾기 (자기 자신 제외)\n",
        "    nearest_indices = row.argsort()[1:k+1]\n",
        "    # 해당 점들의 컬럼 이름 저장\n",
        "    nearest_points[index] = list(distances_df.columns[nearest_indices])\n",
        "\n",
        "Entropy_df=pd.DataFrame(columns=['Entropy'])\n",
        "for key, value in nearest_points.items():\n",
        "    Entropy_df.loc[key]=entropy(get_pk(y, value))\n",
        "\n",
        "    # Entropy 계산 제대로 됐나 확인함.\n",
        "    # print(f'Key: {key}')\n",
        "    # print(get_pk(y, value))\n",
        "    # print(y.loc[value])\n",
        "\n",
        "# Negative Sample에 대해서만 membership이 구성되야 함.\n",
        "memberships = [[] for _ in range(M)]\n",
        "H_min = Entropy_df.loc[negative_data_train.index].min().values[0]\n",
        "H_max = Entropy_df.loc[negative_data_train.index].max().values[0]\n",
        "\n",
        "for l in range(1, M + 1):\n",
        "    thrup = H_min + l * (H_max - H_min) / M\n",
        "    thrlow = H_min + (l - 1) * (H_max - H_min) / M\n",
        "\n",
        "    for idx in negative_data_train.index:\n",
        "        entropy_value = Entropy_df.loc[idx].values[0]\n",
        "        if thrlow <= entropy_value <= thrup:\n",
        "            memberships[l - 1].append(idx)\n",
        "\n",
        "# one_list = [item for sublist in memberships for item in sublist]\n",
        "# len(one_list)\n",
        "\n",
        "for l, sub_list in enumerate(memberships):\n",
        "    for j in Entropy_df.index:\n",
        "        if j in sub_list:\n",
        "            FM = float(1 - beta * l)\n",
        "            Entropy_df.loc[j, 'FM'] = FM\n",
        "\n",
        "# NaN값은 Positive Sample이기 때문에 1로 채움.\n",
        "Entropy_df=Entropy_df.fillna(1)\n",
        "test_df= pd.concat([Entropy_df, y], axis=1)\n",
        "si_values = Entropy_df['FM'].values"
      ],
      "metadata": {
        "id": "o1hG41niXcCX"
      },
      "execution_count": null,
      "outputs": []
    },
    {
      "cell_type": "markdown",
      "source": [
        "## Fuzzy SVM linear Kernel"
      ],
      "metadata": {
        "id": "pBj0E22AM3tC"
      }
    },
    {
      "cell_type": "code",
      "source": [
        "#################################################################################\n",
        "# TODO: 위 Linear Kernel SVM을 사용하여 Linear Kernel EFSVM 구현\n",
        "#################################################################################\n",
        "\n",
        "#################################################################################\n",
        "# TODO: 위 Linear Kernel SVM을 사용하여 Linear Kernel EFSVM 구현\n",
        "#################################################################################\n",
        "\n",
        "###### Standardization Scaler + Linear\n",
        "\n",
        "#Initializing values and computing H. Note the 1. to force to float type\n",
        "X = X_train_norm.values\n",
        "y = y_train.values\n",
        "\n",
        "y = y.reshape(-1, 1)\n",
        "m, n = X.shape\n",
        "\n",
        "#Kernel 관련 정의 numpy array 형식으로 생성\n",
        "H = Kernel_(X, X) * 1.\n",
        "H *= y @ y.T\n",
        "P = cvxopt_matrix(H)\n",
        "q = cvxopt_matrix(-np.ones((m, 1)))\n",
        "G = cvxopt_matrix(np.vstack((-np.eye(m), np.eye(m))))\n",
        "h = cvxopt_matrix(np.hstack((np.zeros(m), np.ones(m) * C* si_values )))\n",
        "A = cvxopt_matrix(y.reshape(1, -1))\n",
        "b = cvxopt_matrix(np.zeros(1))\n",
        "\n",
        "#Run solver\n",
        "sol = cvxopt_solvers.qp(P, q, G, h, A, b)\n",
        "alphas = np.array(sol['x'])\n",
        "\n",
        "w = ((y * alphas).T @ X).reshape(-1, 1)\n",
        "S = ((alphas > 1e-4) & (alphas < C - 1e-4)).flatten()\n",
        "b = y[S] - np.sum(Kernel_(X, X[S], type_='default') * y * alphas, axis=0).reshape(-1, 1)\n",
        "\n",
        "# print('Alphas = ', alphas[(alphas > 1e-4) & (alphas < C - 1e-4)])\n",
        "print('')\n",
        "print('w = ', w.flatten())\n",
        "print('')\n",
        "print('b = ', np.mean(b))\n",
        "print('')\n",
        "# print(\"support vector : \", np.array(range(m))[S])\n",
        "print(\"support vector length : \", len(np.array(range(m))[S]))\n",
        "\n",
        "linear_alphas=alphas\n",
        "linear_b=b[0]"
      ],
      "metadata": {
        "colab": {
          "base_uri": "https://localhost:8080/"
        },
        "id": "koJZXlBdX2po",
        "outputId": "1f2493bf-0402-425d-ca61-23a67f9a1fdd"
      },
      "execution_count": null,
      "outputs": [
        {
          "output_type": "stream",
          "name": "stdout",
          "text": [
            "     pcost       dcost       gap    pres   dres\n",
            " 0: -1.0452e+04 -2.8294e+05  8e+05  1e+00  4e-10\n",
            " 1: -9.8140e+03 -1.6385e+05  2e+05  2e-01  5e-10\n",
            " 2: -1.0134e+04 -4.8073e+04  4e+04  5e-12  5e-10\n",
            " 3: -1.2161e+04 -2.2909e+04  1e+04  2e-12  5e-10\n",
            " 4: -1.3683e+04 -2.0244e+04  7e+03  5e-12  6e-10\n",
            " 5: -1.4156e+04 -1.9400e+04  5e+03  2e-12  6e-10\n",
            " 6: -1.4850e+04 -1.8083e+04  3e+03  2e-12  6e-10\n",
            " 7: -1.5349e+04 -1.7150e+04  2e+03  1e-12  6e-10\n",
            " 8: -1.5702e+04 -1.6489e+04  8e+02  9e-12  7e-10\n",
            " 9: -1.5906e+04 -1.6171e+04  3e+02  4e-12  7e-10\n",
            "10: -1.5984e+04 -1.6057e+04  7e+01  2e-12  8e-10\n",
            "11: -1.6007e+04 -1.6027e+04  2e+01  1e-12  8e-10\n",
            "12: -1.6013e+04 -1.6020e+04  7e+00  2e-12  7e-10\n",
            "13: -1.6015e+04 -1.6017e+04  2e+00  1e-11  7e-10\n",
            "14: -1.6016e+04 -1.6016e+04  2e-01  2e-11  8e-10\n",
            "15: -1.6016e+04 -1.6016e+04  3e-02  1e-11  8e-10\n",
            "16: -1.6016e+04 -1.6016e+04  2e-03  8e-13  8e-10\n",
            "Optimal solution found.\n",
            "\n",
            "w =  [ 0.22771519  0.77120026 -0.0063861  -0.03218937  0.16887645 -0.28770719\n",
            " -0.31605139  0.0258016   0.17442937 -0.3362867  -0.24227197 -1.53012513\n",
            "  0.07007153 -0.07405852 -0.0127601   0.06183779  0.09110341  0.98473624\n",
            "  0.73668404]\n",
            "\n",
            "b =  -0.9396038475139294\n",
            "\n",
            "support vector length :  928\n"
          ]
        }
      ]
    },
    {
      "cell_type": "markdown",
      "source": [
        "## Fuzzy SVM rbf Kernel"
      ],
      "metadata": {
        "id": "jXwHURLsM9UI"
      }
    },
    {
      "cell_type": "code",
      "source": [
        "#################################################################################\n",
        "# TODO: 위 Gaussian (RBF) Kernel SVM을 사용하여 Gaussian (RBF) Kernel EFSVM 구현\n",
        "#################################################################################\n",
        "\n",
        "#################################################################################\n",
        "# TODO: 위 Gaussian (RBF) Kernel SVM을 사용하여 Gaussian (RBF) Kernel EFSVM 구현\n",
        "#################################################################################\n",
        "\n",
        "###### Standardization Scaler + RBF\n",
        "\n",
        "#Initializing values and computing H. Note the 1. to force to float type\n",
        "X = X_train_norm.values\n",
        "y = y_train.values\n",
        "\n",
        "y = y.reshape(-1, 1)\n",
        "m, n = X.shape\n",
        "\n",
        "#Kernel 관련 정의 numpy array 형식으로 생성\n",
        "H = Kernel_(X, X, params=Gamma, type_='rbf') * 1.\n",
        "H *= y @ y.T\n",
        "P = cvxopt_matrix(H)\n",
        "q = cvxopt_matrix(-np.ones((m, 1)))\n",
        "G = cvxopt_matrix(np.vstack((-np.eye(m), np.eye(m))))\n",
        "h = cvxopt_matrix(np.hstack((np.zeros(m), np.ones(m) * C * si_values)))\n",
        "A = cvxopt_matrix(y.reshape(1, -1))\n",
        "b = cvxopt_matrix(np.zeros(1))\n",
        "\n",
        "#Run solver\n",
        "sol = cvxopt_solvers.qp(P, q, G, h, A, b)\n",
        "alphas = np.array(sol['x'])\n",
        "\n",
        "#Results\n",
        "S = ((alphas > 1e-4) & (alphas < C - 1e-4)).flatten()\n",
        "b = y[S] - np.sum(Kernel_(X, X[S], params=Gamma, type_='rbf') * y * alphas, axis=0).reshape(-1, 1)\n",
        "# print('Alphas = ', alphas[(alphas > 1e-4) & (alphas < C - 1e-4)])\n",
        "print('')\n",
        "print('b = ', b[0])\n",
        "print('')\n",
        "# print(\"support vector : \", np.array(range(m))[S])\n",
        "print(\"support vector length : \", len(np.array(range(m))[S]))\n",
        "\n",
        "# 서포트 벡터 계산\n",
        "\n",
        "\n",
        "rbf_alphas=alphas\n",
        "rbf_b=b[0]"
      ],
      "metadata": {
        "colab": {
          "base_uri": "https://localhost:8080/"
        },
        "id": "gcE8GYiw8WJF",
        "outputId": "7ddff3b0-172d-4b74-eb60-4fbb15073545"
      },
      "execution_count": null,
      "outputs": [
        {
          "output_type": "stream",
          "name": "stdout",
          "text": [
            "     pcost       dcost       gap    pres   dres\n",
            " 0:  5.9111e+03 -7.3788e+04  8e+04  3e-12  4e-15\n",
            " 1:  6.3676e+02 -7.4199e+03  8e+03  7e-12  2e-15\n",
            " 2: -1.1426e+03 -2.1100e+03  1e+03  5e-12  7e-16\n",
            " 3: -1.2346e+03 -1.2772e+03  4e+01  8e-13  2e-16\n",
            " 4: -1.2349e+03 -1.2369e+03  2e+00  2e-13  1e-16\n",
            " 5: -1.2349e+03 -1.2350e+03  7e-02  1e-12  1e-16\n",
            " 6: -1.2349e+03 -1.2349e+03  1e-03  6e-13  1e-16\n",
            "Optimal solution found.\n",
            "\n",
            "b =  [-0.0180501]\n",
            "\n",
            "support vector length :  2500\n"
          ]
        }
      ]
    },
    {
      "cell_type": "markdown",
      "source": [
        "# Decision Tree Validation Benchmark"
      ],
      "metadata": {
        "id": "ARqLTZFVGPTm"
      }
    },
    {
      "cell_type": "code",
      "source": [
        "from sklearn.tree import DecisionTreeClassifier\n",
        "from sklearn.metrics import *\n",
        "dt_model = DecisionTreeClassifier(random_state = 42)\n",
        "dt_model.fit(X_train_norm, y_train)\n",
        "y_pred = dt_model.predict(X_val_norm)\n",
        "accuracy = accuracy_score(y_val, y_pred)\n",
        "recall = recall_score(y_val, y_pred)\n",
        "precision = precision_score(y_val, y_pred)\n",
        "\n",
        "print(\"accuracy :\", accuracy)\n",
        "print(\"precision\", precision)\n",
        "print(\"recall :\", recall)\n",
        "\n",
        "confusion_matrix = confusion_matrix(y_val, y_pred)\n",
        "print(confusion_matrix)"
      ],
      "metadata": {
        "colab": {
          "base_uri": "https://localhost:8080/"
        },
        "id": "DHgMBPIJBwh3",
        "outputId": "b074cf97-e292-4178-a144-3151e14f602e"
      },
      "execution_count": null,
      "outputs": [
        {
          "output_type": "stream",
          "name": "stdout",
          "text": [
            "accuracy : 0.7645\n",
            "precision 0.7589893100097181\n",
            "recall : 0.7778884462151394\n",
            "[[748 248]\n",
            " [223 781]]\n"
          ]
        }
      ]
    },
    {
      "cell_type": "code",
      "source": [
        "from matplotlib import pyplot as plt\n",
        "import seaborn as sns\n",
        "\n",
        "feature_importances = dt_model.feature_importances_\n",
        "\n",
        "# 시각화를 위한 데이터프레임 생성\n",
        "importance_df = pd.DataFrame({\n",
        "    'Feature': X_train_norm.columns,\n",
        "    'Importance': feature_importances\n",
        "})\n",
        "\n",
        "# 중요도 순으로 정렬\n",
        "importance_df = importance_df.sort_values(by='Importance', ascending=False)\n",
        "\n",
        "# Feature importance plot\n",
        "plt.figure(figsize=(10, 6))\n",
        "plt.barh(importance_df['Feature'], importance_df['Importance'], color='skyblue')\n",
        "plt.xlabel('Importance')\n",
        "plt.ylabel('Feature')\n",
        "plt.title('Feature Importance in Decision Tree')\n",
        "plt.gca().invert_yaxis()\n",
        "plt.tight_layout()\n",
        "plt.show()"
      ],
      "metadata": {
        "colab": {
          "base_uri": "https://localhost:8080/",
          "height": 607
        },
        "id": "Pu3Tr6fnEM8P",
        "outputId": "c27e4c56-c290-4422-9b0a-763ab636085e"
      },
      "execution_count": null,
      "outputs": [
        {
          "output_type": "display_data",
          "data": {
            "text/plain": [
              "<Figure size 1000x600 with 1 Axes>"
            ],
            "image/png": "[encoded data removed]"
          },
          "metadata": {}
        }
      ]
    },
    {
      "cell_type": "markdown",
      "source": [
        "# Validation 성능체크"
      ],
      "metadata": {
        "id": "3Yxc2EeL9B7M"
      }
    },
    {
      "cell_type": "code",
      "source": [
        "# Solution\n",
        "pred_sol = np.sign(np.sum(Kernel_(X_val_norm.values, X_train_norm.values, type_ = 'default')@(y_train.values) * linear_alphas, axis=0).reshape(-1, 1) + linear_b).flatten()\n",
        "acc_precision_recall(Convolution(pred_sol, y_val))"
      ],
      "metadata": {
        "colab": {
          "base_uri": "https://localhost:8080/"
        },
        "id": "uacTocLlUXav",
        "outputId": "67bb4fe1-0304-4ccb-a21e-5847e156f0f5"
      },
      "execution_count": null,
      "outputs": [
        {
          "output_type": "execute_result",
          "data": {
            "text/plain": [
              "(0.5175, 0.5099135739705135, 0.999003984063745)"
            ]
          },
          "metadata": {},
          "execution_count": 97
        }
      ]
    },
    {
      "cell_type": "code",
      "source": [
        "# Solution\n",
        "pred_sol2 = np.sign(np.sum(Kernel_(X_val_norm.values, X_train_norm.values, params=2, type_='rbf')@(y_train.values) * rbf_alphas, axis=0).reshape(-1, 1) + rbf_b).flatten()\n",
        "acc_precision_recall(Convolution(pred_sol2, y_val))"
      ],
      "metadata": {
        "colab": {
          "base_uri": "https://localhost:8080/"
        },
        "id": "u84hT17DU9id",
        "outputId": "d4097d08-af6f-4f9b-e00c-c057a4be82bb"
      },
      "execution_count": null,
      "outputs": [
        {
          "output_type": "execute_result",
          "data": {
            "text/plain": [
              "(0.658, 0.7030456852791879, 0.5517928286852589)"
            ]
          },
          "metadata": {},
          "execution_count": 98
        }
      ]
    },
    {
      "cell_type": "code",
      "source": [
        "print('Linear EFSVM')\n",
        "print(pred_sol[pred_sol==1.0].sum())\n",
        "print(-1*pred_sol[pred_sol==-1.0].sum())\n",
        "print(len(pred_sol)-len(y_val.values))\n",
        "print('RBF EFSVM')\n",
        "print(pred_sol2[pred_sol2==1.0].sum())\n",
        "print(-1*pred_sol2[pred_sol2==-1.0].sum())\n",
        "print(len(pred_sol2)-len(y_val.values))"
      ],
      "metadata": {
        "colab": {
          "base_uri": "https://localhost:8080/"
        },
        "id": "gBaGEnu7NLyK",
        "outputId": "3a27ea39-866d-4049-b66a-c3e08f6ba387"
      },
      "execution_count": null,
      "outputs": [
        {
          "output_type": "stream",
          "name": "stdout",
          "text": [
            "Linear EFSVM\n",
            "1967.0\n",
            "33.0\n",
            "0\n",
            "RBF EFSVM\n",
            "788.0\n",
            "1212.0\n",
            "0\n"
          ]
        }
      ]
    },
    {
      "cell_type": "markdown",
      "metadata": {
        "id": "UeLpAeWVo1rW"
      },
      "source": [
        "## 3. System Implementation\n",
        "- df_test에 기반하여 실제 사용을 위한 system implemetation 작업 진행\n",
        "- Performance에 대한 평가데이터는 df_test로 지난 프로젝트와 마찬가지로 Data Pre-processing이 System implementation에 동시 구현\n",
        "- 특히, scaler를 사용할 경우 cache를 반드시 사용하여 올바른 system implementation이 되도록 할 것!!! (주의!!!)"
      ]
    },
    {
      "cell_type": "markdown",
      "source": [
        "# Test 결측치처리"
      ],
      "metadata": {
        "id": "CDAWrFMqQtYH"
      }
    },
    {
      "cell_type": "code",
      "source": [
        "delete_col = ['funded_amnt', 'funded_amnt_inv', 'installment', 'grade', 'open_acc', 'initial_list_status', 'recoveries',\n",
        "              'collection_recovery_fee', 'acc_now_delinq', 'delinq_amnt', 'total_pymnt', 'total_pymnt_inv', 'total_rec_prncp',\t'total_rec_int',\t'total_rec_late_fee', 'last_pymnt_amnt']\n",
        "df_1=df_test.copy()\n",
        "df_1 = df_1.drop(columns=delete_col)"
      ],
      "metadata": {
        "id": "9g5OLYyP2u6P"
      },
      "execution_count": null,
      "outputs": []
    },
    {
      "cell_type": "code",
      "source": [
        "df_1['collections_12_mths_ex_med']=df_1['collections_12_mths_ex_med'].replace(np.nan, df_1['collections_12_mths_ex_med'].median())\n",
        "df_1['chargeoff_within_12_mths']=df_1['chargeoff_within_12_mths'].replace( np.nan, df_1['chargeoff_within_12_mths'].median())\n",
        "df_1['pub_rec_bankruptcies']=df_1['pub_rec_bankruptcies'].replace(np.nan, df_1['pub_rec_bankruptcies'].median())\n",
        "df_1['tax_liens']=df_1['tax_liens'].replace(np.nan, df_1['tax_liens'].median())\n",
        "df_1['revol_util']=df_1['revol_util'].replace(np.nan, df_1['revol_util'].median())\n",
        "# NaN 값을 '10+ years'로 대체\n",
        "df_1['emp_length'].fillna('10+ years', inplace=True)"
      ],
      "metadata": {
        "id": "M2sV4XpuQsnX"
      },
      "execution_count": null,
      "outputs": []
    },
    {
      "cell_type": "markdown",
      "source": [
        "# Test 이상치제거"
      ],
      "metadata": {
        "id": "HdwmwlDTRGcu"
      }
    },
    {
      "cell_type": "code",
      "metadata": {
        "id": "j9Y3dWkknnB2"
      },
      "source": [
        "df_2=df_1.copy()\n",
        "df_2 = df_2[df_2['revol_util'] < 1.00]\n",
        "df_2 = df_2[df_2['home_ownership'].isin(['MORTGAGE', 'OTHER', 'OWN', 'RENT'])]"
      ],
      "execution_count": null,
      "outputs": []
    },
    {
      "cell_type": "markdown",
      "source": [
        "# Test 범주형 인코딩"
      ],
      "metadata": {
        "id": "_NlhfQ2ZRPbH"
      }
    },
    {
      "cell_type": "code",
      "source": [
        "from sklearn.preprocessing import OrdinalEncoder\n",
        "from sklearn.preprocessing import LabelEncoder\n",
        "\n",
        "df_3 = df_2.copy()\n",
        "df_3.reset_index(drop=True, inplace=True)\n",
        "\n",
        "selected_list=['emp_length', 'verification_status']\n",
        "\n",
        "for column in selected_list:\n",
        "    le=label_encoders[column]\n",
        "    df_3[column] = [label if label in le.classes_ else 'unknown' for label in df_3[column]]\n",
        "    le.classes_ = np.append(le.classes_, 'unknown')  # 'unknown' 레이블 추가\n",
        "    df_3[column] = le.transform(df_3[column])\n",
        "\n",
        "mapping = {\n",
        "    \"Fully Paid\": -1.0,\n",
        "    \"Charged Off\": 1.0\n",
        "}\n",
        "\n",
        "# 매핑 적용\n",
        "df_3['loan_status'] = df_3['loan_status'].map(mapping)"
      ],
      "metadata": {
        "id": "2ZBuFFcARMEn"
      },
      "execution_count": null,
      "outputs": []
    },
    {
      "cell_type": "code",
      "source": [
        "df_3['purpose'] = encoder_1.transform(df_3[['purpose']])\n",
        "df_3['home_ownership'] = encoder_2.transform(df_3[['home_ownership']])\n",
        "df_3['sub_grade']=encoder_3.transform(df_3[['sub_grade']])"
      ],
      "metadata": {
        "id": "pWyqhLNGROfo"
      },
      "execution_count": null,
      "outputs": []
    },
    {
      "cell_type": "markdown",
      "source": [
        "# Test 이산형변수 통일"
      ],
      "metadata": {
        "id": "8X-LdKEsST8f"
      }
    },
    {
      "cell_type": "code",
      "source": [
        "X2 = df_3.drop(columns=['loan_status'])\n",
        "Y2 = df_3['loan_status']\n",
        "\n",
        "# train에만 있고 test에 없는 경우, 해당 column name으로 test에 zero columns 추가.\n",
        "X2[list(X_val_norm.columns[X_val_norm.columns.isin(X2) == False])] = 0\n",
        "\n",
        "# test에만 있고 train에는 없는 경우, 해당 column name은 제거.\n",
        "X2 = X2.drop(columns=list(X2.columns[X2.columns.isin(X_val_norm) == False]))\n",
        "X2 = X2[X_val_norm.columns]"
      ],
      "metadata": {
        "id": "I1W8XPsXSTIv"
      },
      "execution_count": null,
      "outputs": []
    },
    {
      "cell_type": "markdown",
      "source": [
        "# Test 연속형변수 통일"
      ],
      "metadata": {
        "id": "mxacW5TUSYSP"
      }
    },
    {
      "cell_type": "code",
      "source": [
        "# 가지고 있는 cache로 df_test normalize\n",
        "X2.loc[:, continuous_list] = standard_scale_val(X2, continuous_list, scaler)"
      ],
      "metadata": {
        "id": "X2gVGDWgSX3f"
      },
      "execution_count": null,
      "outputs": []
    },
    {
      "cell_type": "markdown",
      "source": [
        "# Test 성능체크"
      ],
      "metadata": {
        "id": "DOO8EJc3_Oed"
      }
    },
    {
      "cell_type": "code",
      "source": [
        "y_pred = dt_model.predict(X2)\n",
        "accuracy = accuracy_score(Y2, y_pred)\n",
        "recall = recall_score(Y2, y_pred)\n",
        "precision = precision_score(Y2, y_pred)\n",
        "\n",
        "print(\"accuracy :\", accuracy)\n",
        "print(\"precision\", precision)\n",
        "print(\"recall :\", recall)"
      ],
      "metadata": {
        "colab": {
          "base_uri": "https://localhost:8080/"
        },
        "id": "Wrg_6h0af9rs",
        "outputId": "496be970-32a7-4c66-986f-32d82e70904f"
      },
      "execution_count": null,
      "outputs": [
        {
          "output_type": "stream",
          "name": "stdout",
          "text": [
            "accuracy : 0.699\n",
            "precision 0.15587044534412955\n",
            "recall : 0.29389312977099236\n"
          ]
        }
      ]
    },
    {
      "cell_type": "code",
      "source": [
        "# Solution\n",
        "pred_sol = np.sign(np.sum(Kernel_(X2.values, X_train_norm.values  ,type_ = 'default')@ (y_train.values) * linear_alphas , axis = 0).reshape(-1,1) + linear_b).flatten()\n",
        "acc_precision_recall(Convolution(pred_sol,Y2.values))"
      ],
      "metadata": {
        "colab": {
          "base_uri": "https://localhost:8080/"
        },
        "id": "IOE-yAIn3fFG",
        "outputId": "bdbb650e-23d0-45ef-af44-71a8871eb7a1"
      },
      "execution_count": null,
      "outputs": [
        {
          "output_type": "execute_result",
          "data": {
            "text/plain": [
              "(0.1655, 0.13530326594090203, 0.9961832061068703)"
            ]
          },
          "metadata": {},
          "execution_count": 108
        }
      ]
    },
    {
      "cell_type": "code",
      "source": [
        "# Solution\n",
        "pred_sol2 = np.sign(np.sum(Kernel_(X2.values, X_train_norm.values, params=1, type_='rbf')@(y_train.values) * rbf_alphas, axis=0).reshape(-1, 1) + rbf_b).flatten()\n",
        "acc_precision_recall(Convolution(pred_sol2, Y2.values))"
      ],
      "metadata": {
        "colab": {
          "base_uri": "https://localhost:8080/"
        },
        "id": "qx5O9G-Y_Jo8",
        "outputId": "b19274b2-31ca-41e2-d136-e15a23f5011d"
      },
      "execution_count": null,
      "outputs": [
        {
          "output_type": "execute_result",
          "data": {
            "text/plain": [
              "(0.616, 0.15437158469945356, 0.4312977099236641)"
            ]
          },
          "metadata": {},
          "execution_count": 109
        }
      ]
    },
    {
      "cell_type": "code",
      "source": [
        "print('Linear EFSVM')\n",
        "print(pred_sol[pred_sol==1.0].sum())\n",
        "print(-1*pred_sol[pred_sol==-1.0].sum())\n",
        "print(len(pred_sol)-len(Y2.values))\n",
        "print('RBF EFSVM')\n",
        "print(pred_sol2[pred_sol2==1.0].sum())\n",
        "print(-1*pred_sol2[pred_sol2==-1.0].sum())\n",
        "print(len(pred_sol2)-len(Y2.values))"
      ],
      "metadata": {
        "colab": {
          "base_uri": "https://localhost:8080/"
        },
        "id": "naJVb8l_TuaZ",
        "outputId": "a5909bd5-9c70-4cde-c507-21961547c503"
      },
      "execution_count": null,
      "outputs": [
        {
          "output_type": "stream",
          "name": "stdout",
          "text": [
            "Linear EFSVM\n",
            "1929.0\n",
            "71.0\n",
            "0\n",
            "RBF EFSVM\n",
            "732.0\n",
            "1268.0\n",
            "0\n"
          ]
        }
      ]
    },
    {
      "cell_type": "markdown",
      "source": [
        "# APPENDIX: EFSVM Tuning"
      ],
      "metadata": {
        "id": "9XBKiEIWWITY"
      }
    },
    {
      "cell_type": "code",
      "source": [
        "#################################################################################\n",
        "# TODO: 위 Linear Kernel SVM을 사용하여 Linear Kernel EFSVM 구현\n",
        "#################################################################################\n",
        "\n",
        "###### Standardization Scaler + Linear\n",
        "\n",
        "#Initializing values and computing H. Note the 1. to force to float type\n",
        "X = X_train_norm.values\n",
        "y = y_train.values\n",
        "\n",
        "y = y.reshape(-1, 1)\n",
        "m, n = X.shape\n",
        "\n",
        "\n",
        "def EFSVM_linear(C, si_values):\n",
        "    #Kernel 관련 정의 numpy array 형식으로 생성\n",
        "    H = Kernel_(X, X) * 1.\n",
        "    H *= y @ y.T\n",
        "    P = cvxopt_matrix(H)\n",
        "    q = cvxopt_matrix(-np.ones((m, 1)))\n",
        "    G = cvxopt_matrix(np.vstack((-np.eye(m), np.eye(m))))\n",
        "    h = cvxopt_matrix(np.hstack((np.zeros(m), np.ones(m) * C* si_values )))\n",
        "    A = cvxopt_matrix(y.reshape(1, -1))\n",
        "    b = cvxopt_matrix(np.zeros(1))\n",
        "\n",
        "    #Run solver\n",
        "    sol = cvxopt_solvers.qp(P, q, G, h, A, b)\n",
        "    alphas = np.array(sol['x'])\n",
        "\n",
        "    w = ((y * alphas).T @ X).reshape(-1, 1)\n",
        "    S = ((alphas > 1e-4) & (alphas < C - 1e-4)).flatten()\n",
        "    b = y[S] - np.sum(Kernel_(X, X[S], type_='default') * y * alphas, axis=0).reshape(-1, 1)\n",
        "\n",
        "    # print('Alphas = ', alphas[(alphas > 1e-4) & (alphas < C - 1e-4)])\n",
        "    print('')\n",
        "    print('w = ', w.flatten())\n",
        "    print('')\n",
        "    print('b = ', np.mean(b))\n",
        "    print('')\n",
        "    # print(\"support vector : \", np.array(range(m))[S])\n",
        "    print(\"support vector length : \", len(np.array(range(m))[S]))\n",
        "\n",
        "    linear_alphas=alphas\n",
        "    linear_b=b[0]\n",
        "\n",
        "    return linear_alphas, linear_b\n",
        "\n",
        "\n",
        "def EFSVM_rbf(C, gamma, si_values) :\n",
        "    #Kernel 관련 정의 numpy array 형식으로 생성\n",
        "    H = Kernel_(X, X) * 1.\n",
        "    H *= y @ y.T\n",
        "    P = cvxopt_matrix(H)\n",
        "    q = cvxopt_matrix(-np.ones((m, 1)))\n",
        "    G = cvxopt_matrix(np.vstack((-np.eye(m), np.eye(m))))\n",
        "    h = cvxopt_matrix(np.hstack((np.zeros(m), np.ones(m) * C * si_values )))\n",
        "    A = cvxopt_matrix(y.reshape(1, -1))\n",
        "    b = cvxopt_matrix(np.zeros(1))\n",
        "\n",
        "    #Run solver\n",
        "    sol = cvxopt_solvers.qp(P, q, G, h, A, b)\n",
        "    alphas = np.array(sol['x'])\n",
        "\n",
        "    w = ((y * alphas).T @ X).reshape(-1, 1)\n",
        "    S = ((alphas > 1e-4) & (alphas < C - 1e-4)).flatten()\n",
        "    b = y[S] - np.sum(Kernel_(X, X[S], params=Gamma, type_='rbf') * y * alphas, axis=0).reshape(-1, 1)\n",
        "\n",
        "    # print('Alphas = ', alphas[(alphas > 1e-4) & (alphas < C - 1e-4)])\n",
        "    print('')\n",
        "    print('w = ', w.flatten())\n",
        "    print('')\n",
        "    print('b = ', np.mean(b))\n",
        "    print('')\n",
        "    # print(\"support vector : \", np.array(range(m))[S])\n",
        "    print(\"support vector length : \", len(np.array(range(m))[S]))\n",
        "\n",
        "    rbf_alphas=alphas\n",
        "    rbf_b=b[0]\n",
        "\n",
        "    return rbf_alphas, rbf_b"
      ],
      "metadata": {
        "id": "IDQUK3yGWUqh"
      },
      "execution_count": null,
      "outputs": []
    },
    {
      "cell_type": "code",
      "source": [
        "#################################################################################\n",
        "# TODO: Generate s_i !!!!!\n",
        "# 1. Euclidean distance 계산\n",
        "# 2. Negative class에 대한 Entropy 계산 (k=7 사용)\n",
        "# 3. m = 10 / beta = 1/18을 사용하여 Entropy-based Fuzzy Membership 계산\n",
        "# 4. Positive와 Negative class 모두에 대해 si 부여\n",
        "#################################################################################\n",
        "\n",
        "def entropy_cal(M, beta):\n",
        "    distances = distance.cdist(X_train_norm, X_train_norm, 'euclidean')  # 모든 포인트 간의 거리 계산\n",
        "    distances_df = pd.DataFrame(data=distances, index=train.index, columns=train.index)\n",
        "\n",
        "    nearest_points = {}\n",
        "    for index, row in distances_df.iterrows():\n",
        "        # 가장 가까운 7개의 점의 인덱스 찾기 (자기 자신 제외)\n",
        "        nearest_indices = row.argsort()[1:8]\n",
        "        # 해당 점들의 컬럼 이름 저장\n",
        "        nearest_points[index] = list(distances_df.columns[nearest_indices])\n",
        "\n",
        "    Entropy_df=pd.DataFrame(columns=['Entropy'])\n",
        "    for key, value in nearest_points.items():\n",
        "        Entropy_df.loc[key]=entropy(get_pk(y_train, value))\n",
        "\n",
        "        # Entropy 계산 제대로 됐나 확인함.\n",
        "        # print(f'Key: {key}')\n",
        "        # print(get_pk(y, value))\n",
        "        # print(y.loc[value])\n",
        "\n",
        "    # Negative Sample에 대해서만 membership이 구성되야 함.\n",
        "    memberships = [[] for _ in range(M)]\n",
        "    H_min = Entropy_df.loc[negative_data_train.index].min().values[0]\n",
        "    H_max = Entropy_df.loc[negative_data_train.index].max().values[0]\n",
        "\n",
        "    for l in range(1, M + 1):\n",
        "        thrup = H_min + l * (H_max - H_min) / M\n",
        "        thrlow = H_min + (l - 1) * (H_max - H_min) / M\n",
        "\n",
        "        for idx in negative_data_train.index:\n",
        "            entropy_value = Entropy_df.loc[idx].values[0]\n",
        "            if thrlow <= entropy_value <= thrup:\n",
        "                memberships[l - 1].append(idx)\n",
        "\n",
        "    # one_list = [item for sublist in memberships for item in sublist]\n",
        "    # len(one_list)\n",
        "\n",
        "    for l, sub_list in enumerate(memberships):\n",
        "        for j in Entropy_df.index:\n",
        "            if j in sub_list:\n",
        "                FM = float(1 - beta * l)\n",
        "                Entropy_df.loc[j, 'FM'] = FM\n",
        "\n",
        "    # NaN값은 Positive Sample이기 때문에 1로 채움.\n",
        "    Entropy_df=Entropy_df.fillna(1)\n",
        "    test_df= pd.concat([Entropy_df, y_train], axis=1)\n",
        "    si_values = Entropy_df['FM'].values\n",
        "\n",
        "    return si_values"
      ],
      "metadata": {
        "id": "1_RBE2pJWPWK"
      },
      "execution_count": null,
      "outputs": []
    },
    {
      "cell_type": "markdown",
      "source": [
        "loan_status 예측에는 Precision이 중요."
      ],
      "metadata": {
        "id": "yBt_bS_gKhJa"
      }
    },
    {
      "cell_type": "code",
      "source": [
        "# Solution\n",
        "def evaluation(linear_alphas, linear_b, kernel, gamma=0):\n",
        "    if kernel == 'linear':\n",
        "      pred_sol = np.sign(np.sum(Kernel_(X_val_norm.values, X_train_norm.values, type_ = 'default') @ (y_train.values) * (linear_alphas) , axis = 0).reshape(-1,1) + linear_b).flatten()\n",
        "    if kernel == 'rbf':\n",
        "      pred_sol = np.sign(np.sum(Kernel_(X_val_norm.values, X_train_norm.values, params=gamma, type_ = 'rbf') @ (y_train.values) * linear_alphas , axis = 0).reshape(-1,1) + linear_b).flatten()\n",
        "\n",
        "    eval = f1_score(y_val, pred_sol.reshape(-1), average='weighted')\n",
        "\n",
        "    if eval == np.nan:\n",
        "      eval=0.0\n",
        "      print('nan')\n",
        "    return eval"
      ],
      "metadata": {
        "id": "2QVfm5-lWYAA"
      },
      "execution_count": null,
      "outputs": []
    },
    {
      "cell_type": "code",
      "source": [
        "# Define the parameter grid\n",
        "C_values = [0.1, 1, 10]\n",
        "gamma = [2,0.01]\n",
        "M_values = [5, 10]\n",
        "\n",
        "# Initialize variables to store the best results\n",
        "best_score = -1\n",
        "best_hyperparameters = None\n",
        "best_b=None\n",
        "best_alpha=None\n",
        "\n",
        "kernel='rbf'\n",
        "\n",
        "# Perform grid search\n",
        "for M in M_values:\n",
        "  beta_values = [1/(4*M),1/(5*M), 1/(10*M)]\n",
        "  for beta in beta_values:\n",
        "    si_values = entropy_cal(M, beta)\n",
        "    for C in C_values:\n",
        "\n",
        "        if kernel=='linear':\n",
        "            alphas, b = EFSVM_linear(C, si_values)\n",
        "            eval = evaluation(alphas, b, kernel)\n",
        "            score = eval\n",
        "            print('C:', C, 'M:', M, 'beta:', beta)\n",
        "\n",
        "            if score > best_score:\n",
        "              best_b=b[0]\n",
        "              best_alpha=alphas\n",
        "              best_score = score\n",
        "              best_hyperparameters = {'C': C, 'M': M, 'beta': beta}\n",
        "              print(\"best score is : \", best_score)\n",
        "\n",
        "        elif kernel=='rbf':\n",
        "          for g in gamma:\n",
        "            alphas, b = EFSVM_rbf(C, g, si_values)\n",
        "            eval = evaluation(alphas, b, kernel, g)\n",
        "            score = eval\n",
        "            print('C:', C, 'gamma:', g, 'M:', M, 'beta:', beta)\n",
        "\n",
        "            # Append score and check if it's the best\n",
        "            if score > best_score:\n",
        "                best_b=b[0]\n",
        "                best_alpha=alphas\n",
        "                best_score = score\n",
        "                best_hyperparameters = {'C': C, 'gamma': g, 'M': M, 'beta': beta}\n",
        "                print(\"best score is : \", best_score)\n",
        "\n",
        "# Output the best hyperparameters\n",
        "print(\"Best Hyperparameters for EFSVM: \", best_hyperparameters)\n",
        "print(\"Best Score: \", best_score)"
      ],
      "metadata": {
        "colab": {
          "base_uri": "https://localhost:8080/"
        },
        "id": "Qfq3gc_2WG1I",
        "outputId": "3eaaa7a3-f782-4e4a-d7f7-77111bf91700"
      },
      "execution_count": null,
      "outputs": [
        {
          "output_type": "stream",
          "name": "stdout",
          "text": [
            "     pcost       dcost       gap    pres   dres\n",
            " 0: -1.0452e+04 -2.8294e+05  8e+05  1e+00  4e-10\n",
            " 1: -9.8140e+03 -1.6385e+05  2e+05  2e-01  5e-10\n",
            " 2: -1.0134e+04 -4.8073e+04  4e+04  5e-12  5e-10\n",
            " 3: -1.2161e+04 -2.2909e+04  1e+04  2e-12  5e-10\n",
            " 4: -1.3683e+04 -2.0244e+04  7e+03  5e-12  6e-10\n",
            " 5: -1.4156e+04 -1.9400e+04  5e+03  2e-12  6e-10\n",
            " 6: -1.4850e+04 -1.8083e+04  3e+03  2e-12  6e-10\n",
            " 7: -1.5349e+04 -1.7150e+04  2e+03  1e-12  6e-10\n",
            " 8: -1.5702e+04 -1.6489e+04  8e+02  9e-12  7e-10\n",
            " 9: -1.5906e+04 -1.6171e+04  3e+02  4e-12  7e-10\n",
            "10: -1.5984e+04 -1.6057e+04  7e+01  2e-12  8e-10\n",
            "11: -1.6007e+04 -1.6027e+04  2e+01  1e-12  8e-10\n",
            "12: -1.6013e+04 -1.6020e+04  7e+00  2e-12  7e-10\n",
            "13: -1.6015e+04 -1.6017e+04  2e+00  1e-11  7e-10\n",
            "14: -1.6016e+04 -1.6016e+04  2e-01  2e-11  8e-10\n",
            "15: -1.6016e+04 -1.6016e+04  3e-02  1e-11  8e-10\n",
            "16: -1.6016e+04 -1.6016e+04  2e-03  8e-13  8e-10\n",
            "Optimal solution found.\n",
            "\n",
            "w =  [ 0.22771519  0.77120026 -0.0063861  -0.03218937  0.16887645 -0.28770719\n",
            " -0.31605139  0.0258016   0.17442937 -0.3362867  -0.24227197 -1.53012513\n",
            "  0.07007153 -0.07405852 -0.0127601   0.06183779  0.09110341  0.98473624\n",
            "  0.73668404]\n",
            "\n",
            "b =  -0.9396038475139294\n",
            "\n",
            "support vector length :  928\n",
            "C: 10 M: 10 beta: 0.025\n",
            "best score is :  0.7558766001024065\n",
            "     pcost       dcost       gap    pres   dres\n",
            " 0: -1.9815e+03 -7.3335e+03  4e+04  4e+00  7e-11\n",
            " 1: -1.2914e+03 -5.8195e+03  8e+03  5e-01  8e-11\n",
            " 2: -1.2532e+03 -3.4130e+03  3e+03  1e-01  6e-11\n",
            " 3: -1.4054e+03 -1.7937e+03  4e+02  1e-02  7e-11\n",
            " 4: -1.5050e+03 -1.7060e+03  2e+02  5e-03  7e-11\n",
            " 5: -1.5580e+03 -1.6552e+03  1e+02  2e-03  7e-11\n",
            " 6: -1.5795e+03 -1.6311e+03  5e+01  8e-04  7e-11\n",
            " 7: -1.5911e+03 -1.6179e+03  3e+01  4e-04  7e-11\n",
            " 8: -1.6004e+03 -1.6072e+03  7e+00  7e-05  7e-11\n",
            " 9: -1.6029e+03 -1.6045e+03  2e+00  1e-05  8e-11\n",
            "10: -1.6035e+03 -1.6039e+03  4e-01  2e-06  8e-11\n",
            "11: -1.6036e+03 -1.6037e+03  8e-02  2e-07  8e-11\n",
            "12: -1.6037e+03 -1.6037e+03  1e-02  3e-08  7e-11\n",
            "13: -1.6037e+03 -1.6037e+03  2e-03  3e-09  8e-11\n",
            "14: -1.6037e+03 -1.6037e+03  2e-04  6e-13  8e-11\n",
            "Optimal solution found.\n",
            "\n",
            "w =  [ 0.22862051  0.72593808  0.00279117 -0.03159412  0.1672143  -0.27247554\n",
            " -0.32064818  0.02576037  0.18023931 -0.33527785 -0.24360372 -1.41795301\n",
            "  0.06717599 -0.07652278 -0.01645872  0.06106874  0.09069043  0.89343473\n",
            "  0.68163457]\n",
            "\n",
            "b =  -1.039636796838339\n",
            "\n",
            "support vector length :  922\n",
            "C: 1 M: 10 beta: 0.025\n",
            "     pcost       dcost       gap    pres   dres\n",
            " 0: -1.0641e+04 -2.9383e+05  9e+05  1e+00  5e-10\n",
            " 1: -1.0034e+04 -1.7013e+05  2e+05  2e-01  5e-10\n",
            " 2: -1.0376e+04 -4.9016e+04  4e+04  6e-12  5e-10\n",
            " 3: -1.2475e+04 -2.3485e+04  1e+04  3e-12  6e-10\n",
            " 4: -1.4060e+04 -2.0776e+04  7e+03  2e-11  6e-10\n",
            " 5: -1.4544e+04 -1.9896e+04  5e+03  3e-12  6e-10\n",
            " 6: -1.5192e+04 -1.8687e+04  3e+03  5e-12  6e-10\n",
            " 7: -1.5644e+04 -1.7812e+04  2e+03  2e-12  6e-10\n",
            " 8: -1.5892e+04 -1.7351e+04  1e+03  9e-12  6e-10\n",
            " 9: -1.6219e+04 -1.6718e+04  5e+02  8e-12  8e-10\n",
            "10: -1.6382e+04 -1.6497e+04  1e+02  1e-12  8e-10\n",
            "11: -1.6415e+04 -1.6456e+04  4e+01  3e-12  7e-10\n",
            "12: -1.6428e+04 -1.6439e+04  1e+01  6e-13  8e-10\n",
            "13: -1.6431e+04 -1.6435e+04  4e+00  6e-12  8e-10\n",
            "14: -1.6433e+04 -1.6433e+04  6e-01  9e-12  8e-10\n",
            "15: -1.6433e+04 -1.6433e+04  1e-01  3e-12  8e-10\n",
            "16: -1.6433e+04 -1.6433e+04  2e-02  6e-12  8e-10\n",
            "17: -1.6433e+04 -1.6433e+04  9e-04  9e-12  8e-10\n",
            "Optimal solution found.\n",
            "\n",
            "w =  [ 0.21491501  0.75352623 -0.00329887 -0.03550107  0.17164798 -0.28834239\n",
            " -0.31566393  0.02794495  0.16811583 -0.35756388 -0.24830565 -1.56386058\n",
            "  0.07480613 -0.07856901 -0.01687242  0.05148533  0.07856979  1.01126945\n",
            "  0.75673337]\n",
            "\n",
            "b =  -1.0031939472920557\n",
            "\n",
            "support vector length :  904\n",
            "C: 10 M: 10 beta: 0.02\n",
            "     pcost       dcost       gap    pres   dres\n",
            " 0: -2.0004e+03 -7.5143e+03  4e+04  4e+00  9e-11\n",
            " 1: -1.3160e+03 -5.9608e+03  9e+03  5e-01  9e-11\n",
            " 2: -1.2830e+03 -3.4830e+03  3e+03  1e-01  6e-11\n",
            " 3: -1.4433e+03 -1.8406e+03  4e+02  1e-02  7e-11\n",
            " 4: -1.5498e+03 -1.7451e+03  2e+02  5e-03  7e-11\n",
            " 5: -1.6011e+03 -1.6949e+03  1e+02  2e-03  7e-11\n",
            " 6: -1.6242e+03 -1.6692e+03  5e+01  7e-04  7e-11\n",
            " 7: -1.6381e+03 -1.6536e+03  2e+01  2e-04  7e-11\n",
            " 8: -1.6430e+03 -1.6481e+03  5e+00  5e-05  7e-11\n",
            " 9: -1.6446e+03 -1.6463e+03  2e+00  3e-06  8e-11\n",
            "10: -1.6453e+03 -1.6456e+03  3e-01  6e-08  8e-11\n",
            "11: -1.6454e+03 -1.6454e+03  5e-02  7e-09  8e-11\n",
            "12: -1.6454e+03 -1.6454e+03  4e-03  6e-10  8e-11\n",
            "13: -1.6454e+03 -1.6454e+03  2e-04  1e-12  8e-11\n",
            "Optimal solution found.\n",
            "\n",
            "w =  [ 0.2155829   0.7112844   0.00371228 -0.0364023   0.17325436 -0.23482534\n",
            " -0.31563748  0.02856759  0.17179228 -0.3563551  -0.24899127 -1.42396907\n",
            "  0.05259475 -0.07277584 -0.02149219  0.05021125  0.07874083  0.89191001\n",
            "  0.68809778]\n",
            "\n",
            "b =  -1.0800333540460316\n",
            "\n",
            "support vector length :  907\n",
            "C: 1 M: 10 beta: 0.02\n",
            "     pcost       dcost       gap    pres   dres\n",
            " 0: -1.0506e+04 -2.8579e+05  8e+05  1e+00  5e-10\n",
            " 1: -9.8789e+03 -1.6502e+05  2e+05  2e-01  5e-10\n",
            " 2: -1.0221e+04 -4.7031e+04  4e+04  2e-12  5e-10\n",
            " 3: -1.2300e+04 -2.3058e+04  1e+04  1e-12  5e-10\n",
            " 4: -1.3796e+04 -2.0465e+04  7e+03  2e-13  6e-10\n",
            " 5: -1.4269e+04 -1.9595e+04  5e+03  6e-12  6e-10\n",
            " 6: -1.4910e+04 -1.8385e+04  3e+03  4e-12  6e-10\n",
            " 7: -1.5347e+04 -1.7539e+04  2e+03  3e-12  6e-10\n",
            " 8: -1.5567e+04 -1.7129e+04  2e+03  3e-13  6e-10\n",
            " 9: -1.5895e+04 -1.6502e+04  6e+02  3e-12  7e-10\n",
            "10: -1.6037e+04 -1.6289e+04  3e+02  1e-11  7e-10\n",
            "11: -1.6109e+04 -1.6188e+04  8e+01  5e-12  7e-10\n",
            "12: -1.6130e+04 -1.6158e+04  3e+01  2e-12  8e-10\n",
            "13: -1.6139e+04 -1.6148e+04  9e+00  1e-11  8e-10\n",
            "14: -1.6142e+04 -1.6144e+04  3e+00  1e-11  7e-10\n",
            "15: -1.6142e+04 -1.6143e+04  9e-01  2e-12  7e-10\n",
            "16: -1.6143e+04 -1.6143e+04  2e-01  2e-12  7e-10\n",
            "17: -1.6143e+04 -1.6143e+04  6e-02  7e-13  7e-10\n",
            "18: -1.6143e+04 -1.6143e+04  6e-03  3e-12  8e-10\n",
            "Optimal solution found.\n",
            "\n",
            "w =  [ 0.22627555  0.77005183 -0.00647494 -0.03344747  0.16514974 -0.30013297\n",
            " -0.31881293  0.02725558  0.17669686 -0.34640787 -0.24832935 -1.537893\n",
            "  0.06553631 -0.08319664 -0.00744308  0.06143204  0.09554634  0.99269828\n",
            "  0.74088345]\n",
            "\n",
            "b =  -0.9158497647857259\n",
            "\n",
            "support vector length :  940\n",
            "C: 10 M: 5 beta: 0.05\n",
            "     pcost       dcost       gap    pres   dres\n",
            " 0: -1.9869e+03 -7.3847e+03  4e+04  4e+00  8e-11\n",
            " 1: -1.2989e+03 -5.8582e+03  8e+03  5e-01  8e-11\n",
            " 2: -1.2631e+03 -3.4094e+03  3e+03  1e-01  6e-11\n",
            " 3: -1.4193e+03 -1.8037e+03  4e+02  1e-02  6e-11\n",
            " 4: -1.5171e+03 -1.7183e+03  2e+02  5e-03  7e-11\n",
            " 5: -1.5736e+03 -1.6642e+03  9e+01  2e-03  7e-11\n",
            " 6: -1.5923e+03 -1.6435e+03  5e+01  8e-04  7e-11\n",
            " 7: -1.6061e+03 -1.6278e+03  2e+01  3e-04  7e-11\n",
            " 8: -1.6126e+03 -1.6205e+03  8e+00  1e-04  7e-11\n",
            " 9: -1.6151e+03 -1.6178e+03  3e+00  3e-05  7e-11\n",
            "10: -1.6158e+03 -1.6169e+03  1e+00  8e-06  7e-11\n",
            "11: -1.6162e+03 -1.6165e+03  3e-01  2e-06  7e-11\n",
            "12: -1.6163e+03 -1.6164e+03  7e-02  2e-07  8e-11\n",
            "13: -1.6164e+03 -1.6164e+03  6e-03  1e-08  8e-11\n",
            "14: -1.6164e+03 -1.6164e+03  7e-05  1e-10  8e-11\n",
            "Optimal solution found.\n",
            "\n",
            "w =  [ 0.2290813   0.74590967 -0.00222505 -0.03292339  0.16729979 -0.28164838\n",
            " -0.32343018  0.02673525  0.17285962 -0.34864232 -0.25294692 -1.38655264\n",
            "  0.05936833 -0.07956641 -0.0056496   0.06028214  0.09562804  0.86679508\n",
            "  0.66664085]\n",
            "\n",
            "b =  -0.9939357588847619\n",
            "\n",
            "support vector length :  918\n",
            "C: 1 M: 5 beta: 0.05\n",
            "     pcost       dcost       gap    pres   dres\n",
            " 0: -1.0684e+04 -2.9610e+05  9e+05  1e+00  6e-10\n",
            " 1: -1.0084e+04 -1.7104e+05  2e+05  2e-01  5e-10\n",
            " 2: -1.0442e+04 -4.8421e+04  4e+04  3e-04  5e-10\n",
            " 3: -1.2575e+04 -2.3598e+04  1e+04  9e-05  6e-10\n",
            " 4: -1.4149e+04 -2.0930e+04  7e+03  5e-05  6e-10\n",
            " 5: -1.4663e+04 -1.9978e+04  5e+03  3e-05  6e-10\n",
            " 6: -1.5294e+04 -1.8798e+04  4e+03  2e-05  6e-10\n",
            " 7: -1.5745e+04 -1.7914e+04  2e+03  9e-06  6e-10\n",
            " 8: -1.6002e+04 -1.7430e+04  1e+03  5e-06  7e-10\n",
            " 9: -1.6316e+04 -1.6815e+04  5e+02  1e-12  8e-10\n",
            "10: -1.6471e+04 -1.6606e+04  1e+02  1e-12  7e-10\n",
            "11: -1.6512e+04 -1.6553e+04  4e+01  6e-12  8e-10\n",
            "12: -1.6526e+04 -1.6536e+04  1e+01  2e-12  7e-10\n",
            "13: -1.6529e+04 -1.6532e+04  3e+00  9e-12  7e-10\n",
            "14: -1.6530e+04 -1.6531e+04  9e-01  9e-12  8e-10\n",
            "15: -1.6530e+04 -1.6530e+04  1e-01  5e-12  8e-10\n",
            "16: -1.6530e+04 -1.6530e+04  2e-02  6e-12  8e-10\n",
            "Optimal solution found.\n",
            "\n",
            "w =  [ 2.13905596e-01  7.33101220e-01 -7.49009825e-04 -3.46516462e-02\n",
            "  1.72435434e-01 -2.66147770e-01 -3.14523620e-01  3.05511462e-02\n",
            "  1.73719075e-01 -3.56733052e-01 -2.46823204e-01 -1.56054615e+00\n",
            "  5.88998838e-02 -7.53334295e-02 -1.97609362e-02  5.06574639e-02\n",
            "  7.94050996e-02  1.00995734e+00  7.56020957e-01]\n",
            "\n",
            "b =  -1.0018837879227305\n",
            "\n",
            "support vector length :  941\n",
            "C: 10 M: 5 beta: 0.04\n",
            "     pcost       dcost       gap    pres   dres\n",
            " 0: -2.0048e+03 -7.5550e+03  4e+04  4e+00  9e-11\n",
            " 1: -1.3217e+03 -5.9909e+03  9e+03  5e-01  8e-11\n",
            " 2: -1.2906e+03 -3.4791e+03  3e+03  1e-01  6e-11\n",
            " 3: -1.4538e+03 -1.8503e+03  4e+02  1e-02  7e-11\n",
            " 4: -1.5601e+03 -1.7543e+03  2e+02  5e-03  7e-11\n",
            " 5: -1.6128e+03 -1.7025e+03  9e+01  2e-03  7e-11\n",
            " 6: -1.6344e+03 -1.6784e+03  5e+01  7e-04  7e-11\n",
            " 7: -1.6482e+03 -1.6629e+03  1e+01  2e-04  8e-11\n",
            " 8: -1.6524e+03 -1.6582e+03  6e+00  5e-05  7e-11\n",
            " 9: -1.6541e+03 -1.6563e+03  2e+00  3e-06  8e-11\n",
            "10: -1.6550e+03 -1.6553e+03  3e-01  2e-07  8e-11\n",
            "11: -1.6551e+03 -1.6552e+03  3e-02  2e-08  8e-11\n",
            "12: -1.6552e+03 -1.6552e+03  5e-03  3e-09  8e-11\n",
            "13: -1.6552e+03 -1.6552e+03  1e-03  5e-10  8e-11\n",
            "Optimal solution found.\n",
            "\n",
            "w =  [ 0.21564833  0.71592111  0.00261104 -0.03431134  0.16757047 -0.23654281\n",
            " -0.31888619  0.03039173  0.1794695  -0.36051384 -0.24793298 -1.41930095\n",
            "  0.04623861 -0.0743396  -0.02352306  0.05045264  0.07864411  0.89216754\n",
            "  0.68705097]\n",
            "\n",
            "b =  -1.0727924007258975\n",
            "\n",
            "support vector length :  905\n",
            "C: 1 M: 5 beta: 0.04\n",
            "Best Hyperparameters for EFSVM:  {'C': 10, 'M': 10, 'beta': 0.025}\n",
            "Best Score:  0.7558766001024065\n"
          ]
        }
      ]
    },
    {
      "cell_type": "code",
      "source": [
        "# Solution\n",
        "if kernel == 'linear':\n",
        "    pred_sol = np.sign(np.sum(Kernel_(X2.values, X_train_norm.values, type_='default')@(y_train.values) * best_alpha , axis = 0).reshape(-1,1) + best_b).flatten()\n",
        "\n",
        "# Solution\n",
        "if kernel == 'rbf':\n",
        "    pred_sol = np.sign(np.sum(Kernel_(X2.values, X_train_norm.values  ,params=Gamma, type_='rbf')@(y_train.values) * best_alpha , axis = 0).reshape(-1,1) + best_b).flatten()\n",
        "\n",
        "acc_precision_recall(Convolution(pred_sol,Y2.values))"
      ],
      "metadata": {
        "colab": {
          "base_uri": "https://localhost:8080/"
        },
        "id": "cG97idUcw_GE",
        "outputId": "9210a347-f579-47f5-aee0-ae4672b05d54"
      },
      "execution_count": null,
      "outputs": [
        {
          "output_type": "execute_result",
          "data": {
            "text/plain": [
              "(0.157199, 0.131, 0.9645)"
            ]
          },
          "metadata": {},
          "execution_count": 47
        }
      ]
    },
    {
      "cell_type": "markdown",
      "source": [
        "# APPENDIX: Soft SVM Tuning"
      ],
      "metadata": {
        "id": "FBCUcXeC6qQT"
      }
    },
    {
      "cell_type": "code",
      "source": [
        "#################################################################################\n",
        "# TODO: 위 Linear Kernel SVM을 사용하여 Linear Kernel EFSVM 구현\n",
        "#################################################################################\n",
        "\n",
        "###### Standardization Scaler + Linear\n",
        "\n",
        "#Initializing values and computing H. Note the 1. to force to float type\n",
        "X = X_train_norm.values\n",
        "y = y_train.values\n",
        "\n",
        "y = y.reshape(-1, 1)\n",
        "m, n = X.shape\n",
        "\n",
        "\n",
        "def SVM_linear(C):\n",
        "    #Kernel 관련 정의 numpy array 형식으로 생성\n",
        "    H = Kernel_(X, X) * 1.\n",
        "    H *= y @ y.T\n",
        "    P = cvxopt_matrix(H)\n",
        "    q = cvxopt_matrix(-np.ones((m, 1)))\n",
        "    G = cvxopt_matrix(np.vstack((-np.eye(m), np.eye(m))))\n",
        "    h = cvxopt_matrix(np.hstack((np.zeros(m), np.ones(m) * C )))\n",
        "    A = cvxopt_matrix(y.reshape(1, -1))\n",
        "    b = cvxopt_matrix(np.zeros(1))\n",
        "\n",
        "    #Run solver\n",
        "    sol = cvxopt_solvers.qp(P, q, G, h, A, b)\n",
        "    alphas = np.array(sol['x'])\n",
        "\n",
        "    w = ((y * alphas).T @ X).reshape(-1, 1)\n",
        "    S = ((alphas > 1e-4) & (alphas < C - 1e-4)).flatten()\n",
        "    b = y[S] - np.sum(Kernel_(X, X[S], type_='default') * y * alphas, axis=0).reshape(-1, 1)\n",
        "\n",
        "    # print('Alphas = ', alphas[(alphas > 1e-4) & (alphas < C - 1e-4)])\n",
        "    print('')\n",
        "    print('w = ', w.flatten())\n",
        "    print('')\n",
        "    print('b = ', np.mean(b))\n",
        "    print('')\n",
        "    # print(\"support vector : \", np.array(range(m))[S])\n",
        "    print(\"support vector length : \", len(np.array(range(m))[S]))\n",
        "\n",
        "    linear_alphas=alphas\n",
        "    linear_b=b[0]\n",
        "\n",
        "    return linear_alphas, linear_b\n",
        "\n",
        "\n",
        "def SVM_rbf(C, gamma) :\n",
        "    #Kernel 관련 정의 numpy array 형식으로 생성\n",
        "    H = Kernel_(X, X) * 1.\n",
        "    H *= y @ y.T\n",
        "    P = cvxopt_matrix(H)\n",
        "    q = cvxopt_matrix(-np.ones((m, 1)))\n",
        "    G = cvxopt_matrix(np.vstack((-np.eye(m), np.eye(m))))\n",
        "    h = cvxopt_matrix(np.hstack((np.zeros(m), np.ones(m) * C )))\n",
        "    A = cvxopt_matrix(y.reshape(1, -1))\n",
        "    b = cvxopt_matrix(np.zeros(1))\n",
        "\n",
        "    #Run solver\n",
        "    sol = cvxopt_solvers.qp(P, q, G, h, A, b)\n",
        "    alphas = np.array(sol['x'])\n",
        "\n",
        "    w = ((y * alphas).T @ X).reshape(-1, 1)\n",
        "    S = ((alphas > 1e-4) & (alphas < C - 1e-4)).flatten()\n",
        "    b = y[S] - np.sum(Kernel_(X, X[S], params=Gamma, type_='rbf') * y * alphas, axis=0).reshape(-1, 1)\n",
        "\n",
        "    # print('Alphas = ', alphas[(alphas > 1e-4) & (alphas < C - 1e-4)])\n",
        "    print('')\n",
        "    print('w = ', w.flatten())\n",
        "    print('')\n",
        "    print('b = ', np.mean(b))\n",
        "    print('')\n",
        "    # print(\"support vector : \", np.array(range(m))[S])\n",
        "    print(\"support vector length : \", len(np.array(range(m))[S]))\n",
        "\n",
        "    rbf_alphas=alphas\n",
        "    rbf_b=b[0]\n",
        "\n",
        "    return rbf_alphas, rbf_b"
      ],
      "metadata": {
        "id": "EXJaCrf66y4J"
      },
      "execution_count": null,
      "outputs": []
    },
    {
      "cell_type": "code",
      "source": [
        "# Define the parameter grid\n",
        "C_values = [10, 1, 0.1]\n",
        "gamma = [2,0.01]\n",
        "\n",
        "# Initialize variables to store the best results\n",
        "best_score = -1  # Start with a very low score\n",
        "best_hyperparameters = None\n",
        "best_b=None\n",
        "best_alpha=None\n",
        "\n",
        "kernel='linear'\n",
        "\n",
        "# Perform grid search\n",
        "\n",
        "for C in C_values:\n",
        "    if kernel=='linear':\n",
        "        alphas, b = SVM_linear(C)\n",
        "        eval = evaluation(alphas, b, kernel)\n",
        "        score = eval\n",
        "        print('C:', C)\n",
        "\n",
        "        if score > best_score:\n",
        "          best_b=b[0]\n",
        "          best_alpha=alphas\n",
        "          best_score = score\n",
        "          best_hyperparameters = {'C': C}\n",
        "          print(\"best score is : \", best_score)\n",
        "\n",
        "    elif kernel=='rbf':\n",
        "      for g in gamma:\n",
        "        alphas, b = SVM_rbf(C, g)\n",
        "        eval = evaluation(alphas, b, kernel, g)\n",
        "        score = eval\n",
        "        print('C:', C, 'gamma:', g)\n",
        "\n",
        "        # Append score and check if it's the best\n",
        "        if score > best_score:\n",
        "            best_b=b[0]\n",
        "            best_alpha=alphas\n",
        "            best_score = score\n",
        "            best_hyperparameters = {'C': C, 'gamma': g}\n",
        "            print(\"best score is : \", best_score)\n",
        "\n",
        "# Output the best hyperparameters\n",
        "print(\"Best Hyperparameters for EFSVM: \", best_hyperparameters)\n",
        "print(\"Best Score: \", best_score)"
      ],
      "metadata": {
        "colab": {
          "base_uri": "https://localhost:8080/"
        },
        "id": "NG44N8QM624f",
        "outputId": "6dad3597-78b7-4339-b845-a8bdc970972f"
      },
      "execution_count": null,
      "outputs": [
        {
          "output_type": "stream",
          "name": "stdout",
          "text": [
            "     pcost       dcost       gap    pres   dres\n",
            " 0: -1.1398e+04 -3.4671e+05  1e+06  1e+00  4e-10\n",
            " 1: -1.0818e+04 -2.0035e+05  2e+05  2e-01  5e-10\n",
            " 2: -1.1180e+04 -5.6977e+04  5e+04  3e-03  6e-10\n",
            " 3: -1.3442e+04 -2.5286e+04  1e+04  8e-04  6e-10\n",
            " 4: -1.5378e+04 -2.2489e+04  7e+03  3e-04  7e-10\n",
            " 5: -1.6344e+04 -2.0858e+04  5e+03  2e-04  7e-10\n",
            " 6: -1.6932e+04 -1.9716e+04  3e+03  6e-05  7e-10\n",
            " 7: -1.7315e+04 -1.8977e+04  2e+03  4e-05  7e-10\n",
            " 8: -1.7654e+04 -1.8360e+04  7e+02  1e-05  8e-10\n",
            " 9: -1.7849e+04 -1.8034e+04  2e+02  3e-06  8e-10\n",
            "10: -1.7898e+04 -1.7959e+04  6e+01  7e-07  8e-10\n",
            "11: -1.7917e+04 -1.7933e+04  2e+01  1e-07  8e-10\n",
            "12: -1.7922e+04 -1.7926e+04  4e+00  3e-08  8e-10\n",
            "13: -1.7923e+04 -1.7925e+04  2e+00  1e-08  8e-10\n",
            "14: -1.7924e+04 -1.7924e+04  3e-01  2e-09  9e-10\n",
            "15: -1.7924e+04 -1.7924e+04  3e-03  2e-11  1e-09\n",
            "Optimal solution found.\n",
            "\n",
            "w =  [ 0.2448328   0.58382054  0.02589048 -0.0334089   0.1545064  -0.24864685\n",
            " -0.35025238  0.01013539  0.17689674 -0.35818412 -0.25306831 -1.75236157\n",
            "  0.04349802 -0.11009217 -0.04480585  0.06750569  0.07702476  1.17968371\n",
            "  0.84846438]\n",
            "\n",
            "b =  -0.22337748045421915\n",
            "\n",
            "support vector length :  23\n",
            "C: 10\n",
            "best score is :  0.7558766001024065\n",
            "     pcost       dcost       gap    pres   dres\n",
            " 0: -2.0763e+03 -8.3496e+03  4e+04  4e+00  9e-11\n",
            " 1: -1.4055e+03 -6.5861e+03  9e+03  5e-01  9e-11\n",
            " 2: -1.3866e+03 -3.7663e+03  3e+03  1e-01  7e-11\n",
            " 3: -1.5763e+03 -1.9986e+03  5e+02  1e-02  8e-11\n",
            " 4: -1.6981e+03 -1.8907e+03  2e+02  6e-03  8e-11\n",
            " 5: -1.7409e+03 -1.8500e+03  1e+02  3e-03  8e-11\n",
            " 6: -1.7757e+03 -1.8147e+03  4e+01  8e-04  8e-11\n",
            " 7: -1.7876e+03 -1.8026e+03  2e+01  2e-04  8e-11\n",
            " 8: -1.7927e+03 -1.7972e+03  5e+00  6e-05  8e-11\n",
            " 9: -1.7943e+03 -1.7955e+03  1e+00  1e-05  8e-11\n",
            "10: -1.7947e+03 -1.7951e+03  5e-01  4e-06  8e-11\n",
            "11: -1.7948e+03 -1.7950e+03  1e-01  7e-07  8e-11\n",
            "12: -1.7949e+03 -1.7949e+03  3e-02  1e-07  9e-11\n",
            "13: -1.7949e+03 -1.7949e+03  8e-03  5e-09  9e-11\n",
            "14: -1.7949e+03 -1.7949e+03  1e-04  7e-11  9e-11\n",
            "Optimal solution found.\n",
            "\n",
            "w =  [ 0.24778207  0.57151318  0.02849982 -0.03564469  0.15344676 -0.25398702\n",
            " -0.3566728   0.01221812  0.17259425 -0.35625192 -0.24834271 -1.59662474\n",
            "  0.04345778 -0.1044409  -0.04875791  0.06628619  0.07789502  1.05780057\n",
            "  0.77327   ]\n",
            "\n",
            "b =  -0.25336642769880974\n",
            "\n",
            "support vector length :  19\n",
            "C: 1\n",
            "Best Hyperparameters for EFSVM:  {'C': 10}\n",
            "Best Score:  0.7558766001024065\n"
          ]
        }
      ]
    },
    {
      "cell_type": "code",
      "source": [
        "# Solution\n",
        "if kernel == 'linear':\n",
        "    pred_sol = np.sign(np.sum(Kernel_(X2.values, X_train_norm.values, type_='default')@(y_train.values) * best_alpha , axis = 0).reshape(-1,1) + best_b).flatten()\n",
        "\n",
        "# Solution\n",
        "if kernel == 'rbf':\n",
        "    pred_sol = np.sign(np.sum(Kernel_(X2.values, X_train_norm.values  ,params=Gamma, type_='rbf')@(y_train.values) * best_alpha , axis = 0).reshape(-1,1) + best_b).flatten()\n",
        "\n",
        "acc_precision_recall(Convolution(pred_sol,Y2.values))"
      ],
      "metadata": {
        "colab": {
          "base_uri": "https://localhost:8080/"
        },
        "id": "Mor-Fb1P8Mg-",
        "outputId": "6fed312d-2a08-4aa2-88d6-99d98e532b33"
      },
      "execution_count": null,
      "outputs": [
        {
          "output_type": "execute_result",
          "data": {
            "text/plain": [
              "(0.157199, 0.131, 0.9645)"
            ]
          },
          "metadata": {},
          "execution_count": 51
        }
      ]
    }
  ]
}